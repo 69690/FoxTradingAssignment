{
 "cells": [
  {
   "cell_type": "markdown",
   "metadata": {},
   "source": [
    "### NOTE:\n",
    "#### 1. The City_Main.xlsx is an Excel Sheet where this program works upon.\n",
    "#### 2. The Excel Sheet contains two sheets - Sheet1 is the main sheet\n",
    "#### 3. Sheet2 is the values sheet which contains all possible values\n",
    "#### 4. Temperature in the main sheet stop changing and values in Sheet2 stop appending if the updation value is set to 0 in the main sheet.\n",
    "#### 5. The mainFunction() below performs the live updation in the Excel Sheet.\n",
    "#### 6. Stop the mainFunction() cell to stop the live updation.\n",
    "####                                            OR \n",
    "####      Set the Update value in the main sheet to 0 for the city/cities you want to stop live updation.\n",
    "\n",
    "### Done by Bharat Ahuja"
   ]
  },
  {
   "cell_type": "code",
   "execution_count": 1,
   "metadata": {},
   "outputs": [],
   "source": [
    "import requests\n",
    "import xlwings as xw\n",
    "import time"
   ]
  },
  {
   "cell_type": "code",
   "execution_count": 2,
   "metadata": {},
   "outputs": [],
   "source": [
    "def KtoC(K): #Kelvin to Celsius\n",
    "    C =  K - 273.15\n",
    "    return round(C,2)\n",
    "\n",
    "def KtoF(K): #Kelvin to Fahrenheit\n",
    "    F = ((K - 273.15) * 1.8) + 32\n",
    "    return round(F,2)"
   ]
  },
  {
   "cell_type": "code",
   "execution_count": 3,
   "metadata": {},
   "outputs": [],
   "source": [
    "#key = fb7792949006271eb200e8b7d19f282d\n",
    "\n",
    "def getLondon():\n",
    "    url1 = 'http://api.openweathermap.org/data/2.5/weather?q=London&appid=fb7792949006271eb200e8b7d19f282d'\n",
    "    req1 = requests.get(url1)\n",
    "\n",
    "    data = req1.json()\n",
    "    return data['main']['temp']\n",
    "\n",
    "def getDubai():\n",
    "    url1 = 'http://api.openweathermap.org/data/2.5/weather?q=Dubai&appid=fb7792949006271eb200e8b7d19f282d'\n",
    "    req1 = requests.get(url1)\n",
    "\n",
    "    data = req1.json()\n",
    "    return data['main']['temp']\n",
    "\n",
    "#print(KtoC(getLondon()))\n",
    "#print(KtoC(getDubai()))"
   ]
  },
  {
   "cell_type": "code",
   "execution_count": null,
   "metadata": {},
   "outputs": [],
   "source": [
    "#Note: Stop running the cell if you want the program to stop live updation\n",
    "\n",
    "def mainFunction():\n",
    "    main_wb = xw.Book('City_Main.xlsx')\n",
    "    cities = main_wb.sheets['Sheet1'] #Main sheet is sheet1 \n",
    "    \n",
    "    values = main_wb.sheets['Sheet2'] #Values Sheet\n",
    "    \n",
    "    while True:\n",
    "        #t = time.localtime()\n",
    "        #current_time = time.strftime(\"%H:%M:%S\", t)\n",
    "        if cities['B4'].value == 1:\n",
    "            curtemp = getLondon()\n",
    "            c = KtoC(curtemp)\n",
    "            f = KtoF(curtemp)\n",
    "            if cities['B3'].value == 'C':\n",
    "                cities['B2'].value = c\n",
    "            elif cities['B3'].value == 'F':\n",
    "                cities['B2'].value = f\n",
    "            values['A'+str(values.range('A' + str(values.cells.last_cell.row)).end('up').row + 1)].value = str(c)+' C/'+str(f)+' F'\n",
    "            \n",
    "\n",
    "        if cities['C4'].value == 1:\n",
    "            curtemp = getDubai()\n",
    "            c = KtoC(curtemp)\n",
    "            f = KtoF(curtemp)\n",
    "            if cities['C3'].value == 'C':\n",
    "                cities['C2'].value = c\n",
    "            elif cities['C3'].value == 'F':\n",
    "                cities['C2'].value = f\n",
    "            values['B'+str(values.range('B' + str(values.cells.last_cell.row)).end('up').row + 1)].value = str(c)+' C/'+str(f)+' F'\n",
    "        time.sleep(2) #updates the main page (sheet1) temperature value every 2 seconds\n",
    "            \n",
    "    #main_wb.save('/Users/Bharat/Desktop/Fox Trading Solutions/City_Main.xlsx')\n",
    "        \n",
    "\n",
    "mainFunction()\n"
   ]
  },
  {
   "cell_type": "code",
   "execution_count": null,
   "metadata": {},
   "outputs": [],
   "source": []
  }
 ],
 "metadata": {
  "kernelspec": {
   "display_name": "Python 3",
   "language": "python",
   "name": "python3"
  },
  "language_info": {
   "codemirror_mode": {
    "name": "ipython",
    "version": 3
   },
   "file_extension": ".py",
   "mimetype": "text/x-python",
   "name": "python",
   "nbconvert_exporter": "python",
   "pygments_lexer": "ipython3",
   "version": "3.7.3"
  }
 },
 "nbformat": 4,
 "nbformat_minor": 2
}
